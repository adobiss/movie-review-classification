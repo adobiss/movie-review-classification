{
 "cells": [
  {
   "cell_type": "markdown",
   "id": "a2d05e16",
   "metadata": {},
   "source": [
    "#### 1. Library import and GPU check:"
   ]
  },
  {
   "cell_type": "code",
   "execution_count": 1,
   "id": "d35abfe8",
   "metadata": {
    "scrolled": true
   },
   "outputs": [
    {
     "name": "stdout",
     "output_type": "stream",
     "text": [
      "Version:  2.9.1\n",
      "Eager mode:  True\n",
      "Hub version:  0.12.0\n",
      "GPU is available\n"
     ]
    }
   ],
   "source": [
    "import numpy as np\n",
    "\n",
    "import tensorflow as tf\n",
    "import tensorflow_hub as hub\n",
    "import tensorflow_datasets as tfds\n",
    "\n",
    "import matplotlib.pyplot as plt\n",
    "\n",
    "print(\"Version: \", tf.__version__)\n",
    "print(\"Eager mode: \", tf.executing_eagerly())\n",
    "print(\"Hub version: \", hub.__version__)\n",
    "print(\"GPU is\", \"available\" if tf.config.list_physical_devices('GPU') else \"NOT AVAILABLE\")"
   ]
  },
  {
   "cell_type": "markdown",
   "id": "cc06a85a",
   "metadata": {},
   "source": [
    "#### 2. Next we load the *IMDB* dataset:"
   ]
  },
  {
   "cell_type": "code",
   "execution_count": 2,
   "id": "1861e848",
   "metadata": {
    "scrolled": true
   },
   "outputs": [],
   "source": [
    "train_data, test_data = tfds.load(name='imdb_reviews', split=['train', 'test'], batch_size=-1, as_supervised=True)\n",
    "\n",
    "train_examples, train_labels = tfds.as_numpy(train_data)\n",
    "test_examples, test_labels = tfds.as_numpy(test_data)"
   ]
  },
  {
   "cell_type": "code",
   "execution_count": 3,
   "id": "77d13904",
   "metadata": {},
   "outputs": [
    {
     "name": "stdout",
     "output_type": "stream",
     "text": [
      "Training entries: 25000, test entries: 25000\n"
     ]
    }
   ],
   "source": [
    "print('Training entries: {}, test entries: {}'.format(len(train_examples), len(test_examples)))"
   ]
  },
  {
   "cell_type": "code",
   "execution_count": 4,
   "id": "4aff2ffc",
   "metadata": {
    "scrolled": true
   },
   "outputs": [
    {
     "data": {
      "text/plain": [
       "(b\"This was an absolutely terrible movie. Don't be lured in by Christopher Walken or Michael Ironside. Both are great actors, but this must simply be their worst role in history. Even their great acting could not redeem this movie's ridiculous storyline. This movie is an early nineties US propaganda piece. The most pathetic scenes were those when the Columbian rebels were making their cases for revolutions. Maria Conchita Alonso appeared phony, and her pseudo-love affair with Walken was nothing but a pathetic emotional plug in a movie that was devoid of any real meaning. I am disappointed that there are movies like this, ruining actor's like Christopher Walken's good name. I could barely sit through it.\",\n",
       " 0)"
      ]
     },
     "execution_count": 4,
     "metadata": {},
     "output_type": "execute_result"
    }
   ],
   "source": [
    "r = 0\n",
    "train_examples[r], train_labels[r]"
   ]
  },
  {
   "cell_type": "markdown",
   "id": "7b6e946b",
   "metadata": {},
   "source": [
    "#### 3. Let's try some pre-trained word embedding models:"
   ]
  },
  {
   "cell_type": "code",
   "execution_count": 5,
   "id": "22ed79dd",
   "metadata": {},
   "outputs": [
    {
     "data": {
      "text/plain": [
       "<tf.Tensor: shape=(1, 50), dtype=float32, numpy=\n",
       "array([[ 0.5423195 , -0.0119017 ,  0.06337538,  0.06862972, -0.16776837,\n",
       "        -0.10581174,  0.16865303, -0.04998824, -0.31148055,  0.07910346,\n",
       "         0.15442263,  0.01488662,  0.03930153,  0.19772711, -0.12215476,\n",
       "        -0.04120981, -0.2704109 , -0.21922152,  0.26517662, -0.80739075,\n",
       "         0.25833532, -0.3100421 ,  0.28683215,  0.1943387 , -0.29036492,\n",
       "         0.03862849, -0.7844411 , -0.0479324 ,  0.4110299 , -0.36388892,\n",
       "        -0.58034706,  0.30269456,  0.3630897 , -0.15227164, -0.44391504,\n",
       "         0.19462997,  0.19528408,  0.05666234,  0.2890704 , -0.28468323,\n",
       "        -0.00531206,  0.0571938 , -0.3201318 , -0.04418665, -0.08550783,\n",
       "        -0.55847436, -0.23336391, -0.20782952, -0.03543064, -0.17533456]],\n",
       "      dtype=float32)>"
      ]
     },
     "execution_count": 5,
     "metadata": {},
     "output_type": "execute_result"
    }
   ],
   "source": [
    "model = 'https://tfhub.dev/google/nnlm-en-dim50/2'\n",
    "hub_layer = hub.KerasLayer(model, input_shape=[], dtype=tf.string, trainable=True)\n",
    "hub_layer(train_examples[:1]) # feature vector of a sngle review"
   ]
  },
  {
   "cell_type": "markdown",
   "id": "c2b534f0",
   "metadata": {},
   "source": [
    "#### 4. Build the model:"
   ]
  },
  {
   "cell_type": "code",
   "execution_count": 6,
   "id": "b16ec0d0",
   "metadata": {},
   "outputs": [
    {
     "name": "stdout",
     "output_type": "stream",
     "text": [
      "Model: \"sequential\"\n",
      "_________________________________________________________________\n",
      " Layer (type)                Output Shape              Param #   \n",
      "=================================================================\n",
      " keras_layer (KerasLayer)    (None, 50)                48190600  \n",
      "                                                                 \n",
      " dense (Dense)               (None, 16)                816       \n",
      "                                                                 \n",
      " dense_1 (Dense)             (None, 1)                 17        \n",
      "                                                                 \n",
      "=================================================================\n",
      "Total params: 48,191,433\n",
      "Trainable params: 48,191,433\n",
      "Non-trainable params: 0\n",
      "_________________________________________________________________\n"
     ]
    }
   ],
   "source": [
    "model = tf.keras.Sequential()\n",
    "model.add(hub_layer)\n",
    "model.add(tf.keras.layers.Dense(16, activation='relu'))\n",
    "model.add(tf.keras.layers.Dense(1))\n",
    "\n",
    "model.summary()"
   ]
  },
  {
   "cell_type": "markdown",
   "id": "1853a92d",
   "metadata": {},
   "source": [
    "#### 4. Add a loss function:\n",
    "\n",
    "Cross entropy can be a good fit for classification as it compares probability distributions."
   ]
  },
  {
   "cell_type": "code",
   "execution_count": 7,
   "id": "f201bd52",
   "metadata": {},
   "outputs": [],
   "source": [
    "model.compile(optimizer='adam',\n",
    "             loss=tf.losses.BinaryCrossentropy(from_logits=True),\n",
    "             metrics=[tf.metrics.BinaryAccuracy(threshold=0.0, name='accuracy')])"
   ]
  },
  {
   "cell_type": "markdown",
   "id": "a0724d14",
   "metadata": {},
   "source": [
    "#### 5. We need to split out a validation set from the training set:"
   ]
  },
  {
   "cell_type": "code",
   "execution_count": 8,
   "id": "eb7453d3",
   "metadata": {},
   "outputs": [],
   "source": [
    "x_val = train_examples[:10000]\n",
    "partial_x_train = train_examples[10000:]\n",
    "\n",
    "y_val = train_labels[:10000]\n",
    "partial_y_train = train_labels[10000:]"
   ]
  },
  {
   "cell_type": "markdown",
   "id": "851e3647",
   "metadata": {},
   "source": [
    "#### 6. Train the model:\n",
    "\n",
    "40 epochs of mini-batches (512 samples each). Validation set is used to calculate accuracy (as cross entropy is used as the error function?)."
   ]
  },
  {
   "cell_type": "code",
   "execution_count": 9,
   "id": "e8f40aa2",
   "metadata": {
    "scrolled": true
   },
   "outputs": [
    {
     "name": "stdout",
     "output_type": "stream",
     "text": [
      "Epoch 1/40\n",
      "30/30 [==============================] - 3s 58ms/step - loss: 0.6535 - accuracy: 0.6391 - val_loss: 0.6056 - val_accuracy: 0.7326\n",
      "Epoch 2/40\n",
      "30/30 [==============================] - 2s 51ms/step - loss: 0.5393 - accuracy: 0.7965 - val_loss: 0.4941 - val_accuracy: 0.8050\n",
      "Epoch 3/40\n",
      "30/30 [==============================] - 2s 51ms/step - loss: 0.4037 - accuracy: 0.8581 - val_loss: 0.3949 - val_accuracy: 0.8427\n",
      "Epoch 4/40\n",
      "30/30 [==============================] - 2s 51ms/step - loss: 0.2891 - accuracy: 0.9015 - val_loss: 0.3401 - val_accuracy: 0.8602\n",
      "Epoch 5/40\n",
      "30/30 [==============================] - 2s 52ms/step - loss: 0.2102 - accuracy: 0.9319 - val_loss: 0.3133 - val_accuracy: 0.8705\n",
      "Epoch 6/40\n",
      "30/30 [==============================] - 2s 52ms/step - loss: 0.1546 - accuracy: 0.9573 - val_loss: 0.3027 - val_accuracy: 0.8735\n",
      "Epoch 7/40\n",
      "30/30 [==============================] - 2s 51ms/step - loss: 0.1122 - accuracy: 0.9737 - val_loss: 0.3017 - val_accuracy: 0.8758\n",
      "Epoch 8/40\n",
      "30/30 [==============================] - 2s 51ms/step - loss: 0.0818 - accuracy: 0.9847 - val_loss: 0.3056 - val_accuracy: 0.8747\n",
      "Epoch 9/40\n",
      "30/30 [==============================] - 2s 51ms/step - loss: 0.0591 - accuracy: 0.9919 - val_loss: 0.3137 - val_accuracy: 0.8723\n",
      "Epoch 10/40\n",
      "30/30 [==============================] - 2s 52ms/step - loss: 0.0431 - accuracy: 0.9958 - val_loss: 0.3235 - val_accuracy: 0.8718\n",
      "Epoch 11/40\n",
      "30/30 [==============================] - 2s 52ms/step - loss: 0.0314 - accuracy: 0.9979 - val_loss: 0.3355 - val_accuracy: 0.8718\n",
      "Epoch 12/40\n",
      "30/30 [==============================] - 2s 51ms/step - loss: 0.0235 - accuracy: 0.9989 - val_loss: 0.3465 - val_accuracy: 0.8703\n",
      "Epoch 13/40\n",
      "30/30 [==============================] - 2s 51ms/step - loss: 0.0178 - accuracy: 0.9992 - val_loss: 0.3586 - val_accuracy: 0.8704\n",
      "Epoch 14/40\n",
      "30/30 [==============================] - 2s 51ms/step - loss: 0.0134 - accuracy: 0.9995 - val_loss: 0.3731 - val_accuracy: 0.8692\n",
      "Epoch 15/40\n",
      "30/30 [==============================] - 2s 52ms/step - loss: 0.0103 - accuracy: 0.9998 - val_loss: 0.3851 - val_accuracy: 0.8692\n",
      "Epoch 16/40\n",
      "30/30 [==============================] - 2s 52ms/step - loss: 0.0080 - accuracy: 0.9999 - val_loss: 0.3976 - val_accuracy: 0.8693\n",
      "Epoch 17/40\n",
      "30/30 [==============================] - 2s 51ms/step - loss: 0.0065 - accuracy: 0.9999 - val_loss: 0.4092 - val_accuracy: 0.8686\n",
      "Epoch 18/40\n",
      "30/30 [==============================] - 2s 51ms/step - loss: 0.0053 - accuracy: 0.9999 - val_loss: 0.4199 - val_accuracy: 0.8679\n",
      "Epoch 19/40\n",
      "30/30 [==============================] - 2s 51ms/step - loss: 0.0044 - accuracy: 0.9999 - val_loss: 0.4300 - val_accuracy: 0.8678\n",
      "Epoch 20/40\n",
      "30/30 [==============================] - 2s 52ms/step - loss: 0.0037 - accuracy: 0.9999 - val_loss: 0.4398 - val_accuracy: 0.8673\n",
      "Epoch 21/40\n",
      "30/30 [==============================] - 2s 51ms/step - loss: 0.0031 - accuracy: 0.9999 - val_loss: 0.4489 - val_accuracy: 0.8671\n",
      "Epoch 22/40\n",
      "30/30 [==============================] - 2s 51ms/step - loss: 0.0025 - accuracy: 1.0000 - val_loss: 0.4575 - val_accuracy: 0.8671\n",
      "Epoch 23/40\n",
      "30/30 [==============================] - 2s 51ms/step - loss: 0.0022 - accuracy: 1.0000 - val_loss: 0.4656 - val_accuracy: 0.8666\n",
      "Epoch 24/40\n",
      "30/30 [==============================] - 2s 51ms/step - loss: 0.0019 - accuracy: 1.0000 - val_loss: 0.4737 - val_accuracy: 0.8665\n",
      "Epoch 25/40\n",
      "30/30 [==============================] - 2s 51ms/step - loss: 0.0017 - accuracy: 1.0000 - val_loss: 0.4808 - val_accuracy: 0.8662\n",
      "Epoch 26/40\n",
      "30/30 [==============================] - 2s 52ms/step - loss: 0.0015 - accuracy: 1.0000 - val_loss: 0.4879 - val_accuracy: 0.8659\n",
      "Epoch 27/40\n",
      "30/30 [==============================] - 2s 52ms/step - loss: 0.0013 - accuracy: 1.0000 - val_loss: 0.4945 - val_accuracy: 0.8662\n",
      "Epoch 28/40\n",
      "30/30 [==============================] - 2s 51ms/step - loss: 0.0012 - accuracy: 1.0000 - val_loss: 0.5012 - val_accuracy: 0.8657\n",
      "Epoch 29/40\n",
      "30/30 [==============================] - 2s 51ms/step - loss: 0.0011 - accuracy: 1.0000 - val_loss: 0.5073 - val_accuracy: 0.8656\n",
      "Epoch 30/40\n",
      "30/30 [==============================] - 2s 51ms/step - loss: 9.6887e-04 - accuracy: 1.0000 - val_loss: 0.5135 - val_accuracy: 0.8650\n",
      "Epoch 31/40\n",
      "30/30 [==============================] - 2s 51ms/step - loss: 8.7992e-04 - accuracy: 1.0000 - val_loss: 0.5193 - val_accuracy: 0.8652\n",
      "Epoch 32/40\n",
      "30/30 [==============================] - 2s 51ms/step - loss: 8.0671e-04 - accuracy: 1.0000 - val_loss: 0.5249 - val_accuracy: 0.8647\n",
      "Epoch 33/40\n",
      "30/30 [==============================] - 2s 52ms/step - loss: 7.3583e-04 - accuracy: 1.0000 - val_loss: 0.5304 - val_accuracy: 0.8644\n",
      "Epoch 34/40\n",
      "30/30 [==============================] - 2s 51ms/step - loss: 6.7799e-04 - accuracy: 1.0000 - val_loss: 0.5351 - val_accuracy: 0.8647\n",
      "Epoch 35/40\n",
      "30/30 [==============================] - 2s 51ms/step - loss: 6.2351e-04 - accuracy: 1.0000 - val_loss: 0.5399 - val_accuracy: 0.8646\n",
      "Epoch 36/40\n",
      "30/30 [==============================] - 2s 51ms/step - loss: 5.7677e-04 - accuracy: 1.0000 - val_loss: 0.5448 - val_accuracy: 0.8648\n",
      "Epoch 37/40\n",
      "30/30 [==============================] - 2s 52ms/step - loss: 5.3419e-04 - accuracy: 1.0000 - val_loss: 0.5497 - val_accuracy: 0.8643\n",
      "Epoch 38/40\n",
      "30/30 [==============================] - 2s 51ms/step - loss: 4.9623e-04 - accuracy: 1.0000 - val_loss: 0.5543 - val_accuracy: 0.8644\n",
      "Epoch 39/40\n",
      "30/30 [==============================] - 2s 53ms/step - loss: 4.6214e-04 - accuracy: 1.0000 - val_loss: 0.5586 - val_accuracy: 0.8645\n",
      "Epoch 40/40\n",
      "30/30 [==============================] - 2s 55ms/step - loss: 4.3192e-04 - accuracy: 1.0000 - val_loss: 0.5629 - val_accuracy: 0.8642\n"
     ]
    }
   ],
   "source": [
    "history = model.fit(partial_x_train,\n",
    "                   partial_y_train,\n",
    "                   epochs=40,\n",
    "                   batch_size=512,\n",
    "                   validation_data=(x_val, y_val),\n",
    "                   verbose=1)"
   ]
  },
  {
   "cell_type": "markdown",
   "id": "09364609",
   "metadata": {},
   "source": [
    "#### 7. Evaluate the model:"
   ]
  },
  {
   "cell_type": "code",
   "execution_count": 10,
   "id": "97bade3d",
   "metadata": {},
   "outputs": [
    {
     "name": "stdout",
     "output_type": "stream",
     "text": [
      "782/782 [==============================] - 4s 5ms/step - loss: 0.6335 - accuracy: 0.8454\n",
      "[0.6335000395774841, 0.8454399704933167]\n"
     ]
    }
   ],
   "source": [
    "results = model.evaluate(test_examples, test_labels)\n",
    "\n",
    "print(results)"
   ]
  },
  {
   "cell_type": "markdown",
   "id": "ebd878de",
   "metadata": {},
   "source": [
    "#### 8. Accuracy over time:\n",
    "\n",
    "We are going to use a *History* object of the dictionary type returned by *model.fit()*."
   ]
  },
  {
   "cell_type": "code",
   "execution_count": 11,
   "id": "c23f073d",
   "metadata": {},
   "outputs": [
    {
     "data": {
      "text/plain": [
       "dict_keys(['loss', 'accuracy', 'val_loss', 'val_accuracy'])"
      ]
     },
     "execution_count": 11,
     "metadata": {},
     "output_type": "execute_result"
    }
   ],
   "source": [
    "history_dict = history.history\n",
    "history_dict.keys()"
   ]
  },
  {
   "cell_type": "markdown",
   "id": "b17c444b",
   "metadata": {},
   "source": [
    "Plotting values for the above dictionary keys:"
   ]
  },
  {
   "cell_type": "code",
   "execution_count": 12,
   "id": "c2b7411f",
   "metadata": {},
   "outputs": [],
   "source": [
    "acc = history_dict['accuracy']\n",
    "val_acc = history_dict['val_accuracy']\n",
    "loss = history_dict['loss']\n",
    "val_loss = history_dict['val_loss']\n",
    "\n",
    "epochs = range(1, len(acc) + 1)"
   ]
  },
  {
   "cell_type": "code",
   "execution_count": 15,
   "id": "0c1cbe36",
   "metadata": {},
   "outputs": [
    {
     "data": {
      "image/png": "[encoded data removed]",
      "text/plain": [
       "<Figure size 432x288 with 1 Axes>"
      ]
     },
     "metadata": {
      "needs_background": "light"
     },
     "output_type": "display_data"
    }
   ],
   "source": [
    "# 'bo' is for 'blue dot'\n",
    "plt.plot(epochs, loss, 'bo', label='Training loss')\n",
    "# 'b' is for 'solid blue line'\n",
    "plt.plot(epochs, val_loss, 'b', label='Validation loss')\n",
    "plt.title('Training and validation loss')\n",
    "plt.xlabel('Epochs')\n",
    "plt.ylabel('Loss')\n",
    "plt.legend()\n",
    "\n",
    "plt.show()"
   ]
  },
  {
   "cell_type": "code",
   "execution_count": 17,
   "id": "c9030d65",
   "metadata": {},
   "outputs": [
    {
     "data": {
      "image/png": "[encoded data removed]",
      "text/plain": [
       "<Figure size 432x288 with 1 Axes>"
      ]
     },
     "metadata": {
      "needs_background": "light"
     },
     "output_type": "display_data"
    }
   ],
   "source": [
    "plt.clf() # clear figure\n",
    "\n",
    "plt.plot(epochs, acc, 'bo', label='Training accuracy')\n",
    "plt.plot(epochs, val_acc, 'b', label='Validation accuracy')\n",
    "plt.title('Training and validation accuracy')\n",
    "plt.xlabel('Epochs')\n",
    "plt.ylabel('Accuracy')\n",
    "plt.legend()\n",
    "\n",
    "plt.show()"
   ]
  },
  {
   "cell_type": "markdown",
   "id": "9b48aa27",
   "metadata": {},
   "source": [
    "The above graphs indicate overfitting."
   ]
  }
 ],
 "metadata": {
  "kernelspec": {
   "display_name": "tf",
   "language": "python",
   "name": "tf"
  },
  "language_info": {
   "codemirror_mode": {
    "name": "ipython",
    "version": 3
   },
   "file_extension": ".py",
   "mimetype": "text/x-python",
   "name": "python",
   "nbconvert_exporter": "python",
   "pygments_lexer": "ipython3",
   "version": "3.9.12"
  }
 },
 "nbformat": 4,
 "nbformat_minor": 5
}
